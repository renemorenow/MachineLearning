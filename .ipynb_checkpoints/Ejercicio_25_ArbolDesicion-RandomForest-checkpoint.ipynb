{
 "cells": [
  {
   "cell_type": "code",
   "execution_count": null,
   "metadata": {},
   "outputs": [],
   "source": [
    "from mnist import MNIST\n",
    "from sklearn.model_selection import train_test_split\n",
    "from sklearn.tree import DecisionTreeClassifier\n",
    "from sklearn.ensemble import RandomForestClassifier\n",
    "#Importar para utilizar la libreria Matriz de Confusión:\n",
    "from sklearn.metrics import confusion_matrix"
   ]
  },
  {
   "cell_type": "code",
   "execution_count": 15,
   "metadata": {},
   "outputs": [],
   "source": [
    "#Definir metodo para evaluar el clasificador\n",
    "#retorna la matriz de confusión:\n",
    "def evaluate_classifier(classifier, t_data, t_labels):\n",
    "    prediction = classifier.predict(t_data)\n",
    "    #t_labels: valores reales, prediction: valores de la prediccion\n",
    "    #c_matrix: Matriz de confusión\n",
    "    c_matrix = confusion_matrix(t_labels, prediction)\n",
    "    return c_matrix"
   ]
  },
  {
   "cell_type": "code",
   "execution_count": 16,
   "metadata": {},
   "outputs": [],
   "source": [
    "#Funcion que genera un score\n",
    "def generate_score(c_matrix):\n",
    "    score = (c_matrix.diagonal().sum() * 100.) / c_matrix.sum()\n",
    "    return score"
   ]
  },
  {
   "cell_type": "code",
   "execution_count": 17,
   "metadata": {},
   "outputs": [],
   "source": [
    "# define and load data from path\n",
    "mnData = MNIST(r'D:\\Dev\\MachineLearning\\MNIST_data')\n",
    "data, labels = mnData.load_training()"
   ]
  },
  {
   "cell_type": "code",
   "execution_count": 18,
   "metadata": {},
   "outputs": [],
   "source": [
    "# split dta to train\n",
    "train_data, test_data, train_labels, test_labels = train_test_split(data, labels, test_size=0.3, random_state=46)"
   ]
  },
  {
   "cell_type": "code",
   "execution_count": 19,
   "metadata": {},
   "outputs": [
    {
     "name": "stdout",
     "output_type": "stream",
     "text": [
      "[[1610    3   20   24    5   33   29    8   30   13]\n",
      " [   0 1881   20   16    6   13    1    7   25   10]\n",
      " [  27   17 1560   52   23   19   31   35   46   20]\n",
      " [  15   13   57 1523   17   71   13   30   42   32]\n",
      " [   9   14   24   17 1505   11   25   29   19   68]\n",
      " [  26   16   23   73   22 1315   38   12   48   37]\n",
      " [  16    2   35    7   20   50 1628    1   37   23]\n",
      " [   5   12   47   22   18    9    2 1676   12   46]\n",
      " [  45   29   64   62   36   55   29   11 1357   51]\n",
      " [   7   11   16   44   90   37    4   56   46 1554]]\n",
      "86.71666666666667\n"
     ]
    }
   ],
   "source": [
    "# Decision Tree\n",
    "dt_classifier = DecisionTreeClassifier()\n",
    "dt_classifier.fit(train_data, train_labels)\n",
    "c_matrix = evaluate_classifier(dt_classifier, test_data, test_labels)\n",
    "print(c_matrix) #Imprimir Matriz de confusión\n",
    "score = generate_score(c_matrix)\n",
    "print(score) #Imprimir score"
   ]
  },
  {
   "cell_type": "code",
   "execution_count": 20,
   "metadata": {},
   "outputs": [
    {
     "name": "stdout",
     "output_type": "stream",
     "text": [
      "[[1754    0    3    0    1    2    8    0    7    0]\n",
      " [   0 1960    7    3    2    1    1    1    3    1]\n",
      " [  10    4 1773    6    9    1    9    7    9    2]\n",
      " [   2    0   22 1748    0   14    5    7    9    6]\n",
      " [   4    3    4    0 1664    0   15    3    3   25]\n",
      " [   5    1    3   14    3 1549   15    1   13    6]\n",
      " [  11    6    1    0    1    8 1789    0    3    0]\n",
      " [   1    6   20    2    9    1    0 1784    0   26]\n",
      " [   7   10    5    7   11   13    8    4 1646   28]\n",
      " [   5    3    1   30   22    3    1   11    7 1782]]\n",
      "96.93888888888888\n"
     ]
    }
   ],
   "source": [
    "# Random Forest\n",
    "rf_classifier = RandomForestClassifier(n_estimators=150, min_samples_split=2)\n",
    "rf_classifier.fit(train_data, train_labels)\n",
    "cm2 = evaluate_classifier(rf_classifier, test_data, test_labels)\n",
    "print(cm2)\n",
    "score2 = generate_score(cm2)\n",
    "print(score2)"
   ]
  }
 ],
 "metadata": {
  "kernelspec": {
   "display_name": "Python 3",
   "language": "python",
   "name": "python3"
  },
  "language_info": {
   "codemirror_mode": {
    "name": "ipython",
    "version": 3
   },
   "file_extension": ".py",
   "mimetype": "text/x-python",
   "name": "python",
   "nbconvert_exporter": "python",
   "pygments_lexer": "ipython3",
   "version": "3.6.7"
  }
 },
 "nbformat": 4,
 "nbformat_minor": 2
}
