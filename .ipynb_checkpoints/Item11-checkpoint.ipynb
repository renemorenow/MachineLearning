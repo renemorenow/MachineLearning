{
 "cells": [
  {
   "cell_type": "code",
   "execution_count": 10,
   "metadata": {},
   "outputs": [
    {
     "name": "stdout",
     "output_type": "stream",
     "text": [
      "0.22.1\n"
     ]
    }
   ],
   "source": [
    "import sklearn\n",
    "print(sklearn.__version__)"
   ]
  },
  {
   "cell_type": "code",
   "execution_count": 11,
   "metadata": {},
   "outputs": [],
   "source": [
    "#utilizar scikitlearn con los diferentes algoritmos descritos:\n",
    "#Regresión Lineal De tipo: Regresión\n",
    "from sklearn import linear_model\n",
    "\n",
    "#Regresión Logística De tipo: Clasificación\n",
    "from sklearn.linear_model import LogisticRegression\n",
    "\n",
    "#Naïve Bayes De tipo: Clasificación\n",
    "from sklearn.naive_bayes import GaussianNB\n",
    "\n",
    "#k-Nearest Neighbors De tipo: Regresión, Clasificación\n",
    "from sklearn.neighbors import KNeighborsClassifier\n",
    "\n",
    "#Decision Tree – Arbol de Decisiones, De tipo: Clasificación y Regresión\n",
    "from sklearn import tree\n",
    "tree.DecisionTreeRegressor()\n",
    "tree.DecisionTreeClassifier()\n",
    "\n",
    "#Random Forest, De tipo: Regresión y clasificación\n",
    "from sklearn.ensemble import RandomForestRegressor\n",
    "from sklearn.ensemble import RandomForestClassifier\n",
    "\n",
    "#Scikit-Learn Machine Learning No Supervisado, k-means\n",
    "from sklearn.cluster import KMeans\n",
    "\n",
    "#Scikit-Learn Set de Datos, sklearn.datasets\n",
    "#clasificación de flores\n",
    "from sklearn.datasets import load_iris\n",
    "\n",
    "# para regresión de valor de precios de casas\n",
    "from sklearn.datasets import california_housing\n",
    "\n",
    "#para clasificación de células cancerígenas\n",
    "from sklearn.datasets import load_breast_cancer"
   ]
  }
 ],
 "metadata": {
  "kernelspec": {
   "display_name": "Python 3",
   "language": "python",
   "name": "python3"
  },
  "language_info": {
   "codemirror_mode": {
    "name": "ipython",
    "version": 3
   },
   "file_extension": ".py",
   "mimetype": "text/x-python",
   "name": "python",
   "nbconvert_exporter": "python",
   "pygments_lexer": "ipython3",
   "version": "3.6.7"
  }
 },
 "nbformat": 4,
 "nbformat_minor": 2
}
