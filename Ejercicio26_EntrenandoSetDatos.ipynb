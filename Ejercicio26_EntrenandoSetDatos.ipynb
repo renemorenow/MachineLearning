{
 "cells": [
  {
   "cell_type": "code",
   "execution_count": 1,
   "metadata": {},
   "outputs": [],
   "source": [
    "# Requirements\n",
    "#   pip install matplotlib\n",
    "#   pip install python-mnist\n",
    "#   pip install scikit-learn\n",
    "\n",
    "from mnist import MNIST\n",
    "from sklearn.model_selection import train_test_split\n",
    "from sklearn.tree import DecisionTreeClassifier\n",
    "from sklearn.ensemble import RandomForestClassifier\n",
    "from sklearn.metrics import confusion_matrix\n",
    "from matplotlib import pyplot\n",
    "import numpy"
   ]
  },
  {
   "cell_type": "code",
   "execution_count": 2,
   "metadata": {},
   "outputs": [],
   "source": [
    "def evaluate_classifier(classifier, t_data, t_labels):\n",
    "    prediction = classifier.predict(t_data)\n",
    "    c_matrix = confusion_matrix(t_labels, prediction)\n",
    "    return c_matrix"
   ]
  },
  {
   "cell_type": "code",
   "execution_count": 3,
   "metadata": {},
   "outputs": [],
   "source": [
    "def generate_score(c_matrix):\n",
    "    return (c_matrix.diagonal().sum() * 100.) / c_matrix.sum()"
   ]
  },
  {
   "cell_type": "code",
   "execution_count": 4,
   "metadata": {},
   "outputs": [],
   "source": [
    "# define and load data from path\n",
    "mnData = MNIST(r'D:\\Dev\\MachineLearning\\MNIST_data')\n",
    "data, labels = mnData.load_training()"
   ]
  },
  {
   "cell_type": "code",
   "execution_count": 5,
   "metadata": {},
   "outputs": [],
   "source": [
    "# split data to train\n",
    "train_data, test_data, train_labels, test_labels = train_test_split(data, labels, test_size=0.3, random_state=46)"
   ]
  },
  {
   "cell_type": "code",
   "execution_count": 6,
   "metadata": {},
   "outputs": [
    {
     "name": "stdout",
     "output_type": "stream",
     "text": [
      "[[1608    2   24   28    8   35   27    7   22   14]\n",
      " [   0 1883   21   13    5   10    5    9   27    6]\n",
      " [  29   23 1560   51   22   19   28   36   42   20]\n",
      " [  13    8   56 1523   19   72   16   25   48   33]\n",
      " [  11    9   20   12 1518   13   23   28   18   69]\n",
      " [  19   15   20   70   23 1326   38   17   39   43]\n",
      " [  15    8   26    7   29   55 1622    1   40   16]\n",
      " [   8   14   39   18   20    9    0 1686   11   44]\n",
      " [  31   26   49   72   38   58   32    9 1371   53]\n",
      " [  12   14   15   45   80   36    3   59   42 1559]]\n",
      "86.97777777777777\n"
     ]
    }
   ],
   "source": [
    "# Decision Tree\n",
    "dt_classifier = DecisionTreeClassifier()\n",
    "dt_classifier.fit(train_data, train_labels)\n",
    "cm = evaluate_classifier(dt_classifier, test_data, test_labels)\n",
    "print(cm)\n",
    "score = generate_score(cm)\n",
    "print(\"Score: \"+str(score))"
   ]
  },
  {
   "cell_type": "code",
   "execution_count": 7,
   "metadata": {},
   "outputs": [
    {
     "name": "stdout",
     "output_type": "stream",
     "text": [
      "[[1753    0    2    0    0    2    9    1    8    0]\n",
      " [   0 1957    6    4    3    0    1    3    4    1]\n",
      " [  10    7 1769    8    6    1    8    8    9    4]\n",
      " [   2    1   29 1739    0   13    3   11    9    6]\n",
      " [   4    3    5    0 1663    0   14    2    1   29]\n",
      " [   5    3    2   16    3 1546   12    1   13    9]\n",
      " [  14    5    1    0    2    7 1786    0    4    0]\n",
      " [   1    7   18    0    6    0    0 1792    0   25]\n",
      " [   6    8    4   12   11   12   10    3 1648   25]\n",
      " [   5    3    1   27   22    4    1   10   12 1780]]\n",
      "96.85\n"
     ]
    }
   ],
   "source": [
    "# Random Forest\n",
    "rf_classifier = RandomForestClassifier(n_estimators=150, min_samples_split=2)\n",
    "rf_classifier.fit(train_data, train_labels)\n",
    "cm2 = evaluate_classifier(rf_classifier, test_data, test_labels)\n",
    "print(cm2)\n",
    "score2 = generate_score(cm2)\n",
    "print(\"Score: \"+str(score2))"
   ]
  },
  {
   "cell_type": "code",
   "execution_count": 10,
   "metadata": {},
   "outputs": [
    {
     "name": "stdout",
     "output_type": "stream",
     "text": [
      "[[ 970    0    2    0    0    2    2    1    3    0]\n",
      " [   0 1125    2    2    1    1    2    1    1    0]\n",
      " [   6    0  996    7    3    0    4    8    8    0]\n",
      " [   1    0   11  972    0    9    0    9    6    2]\n",
      " [   1    0    0    0  953    0    5    1    3   19]\n",
      " [   3    1    0    8    3  863    7    1    4    2]\n",
      " [   7    3    0    0    5    5  933    0    5    0]\n",
      " [   1    2   23    1    0    0    0  987    3   11]\n",
      " [   4    0    6    9    6    6    3    4  923   13]\n",
      " [   6    6    3   13   14    2    1    3    4  957]]\n",
      "Score: 96.79\n"
     ]
    }
   ],
   "source": [
    "#\n",
    "test_data, test_labels = mnData.load_testing()\n",
    "predicted = rf_classifier.predict(test_data)\n",
    "cm3 = evaluate_classifier(rf_classifier, test_data, numpy.array(test_labels))\n",
    "print(cm3)\n",
    "score3 = generate_score(cm3)\n",
    "print(\"Score: \"+str(score3))"
   ]
  },
  {
   "cell_type": "code",
   "execution_count": 20,
   "metadata": {},
   "outputs": [],
   "source": [
    "# see digit\n",
    "numberPosition = 5\n",
    "digit = test_data[numberPosition]"
   ]
  },
  {
   "cell_type": "code",
   "execution_count": 21,
   "metadata": {},
   "outputs": [
    {
     "data": {
      "image/png": "[encoded data removed]",
      "text/plain": [
       "<Figure size 432x288 with 1 Axes>"
      ]
     },
     "metadata": {
      "needs_background": "light"
     },
     "output_type": "display_data"
    },
    {
     "name": "stdout",
     "output_type": "stream",
     "text": [
      "Numero: [1]\n"
     ]
    }
   ],
   "source": [
    "digit_float = numpy.array(digit, dtype=\"float\")\n",
    "pixels = digit_float.reshape((28, 28))\n",
    "pyplot.imshow(pixels, cmap='gray')\n",
    "pyplot.show()\n",
    "\n",
    "numberPredict = rf_classifier.predict([test_data[numberPosition]])\n",
    "print(\"Numero: \"+str(numberPredict))"
   ]
  },
  {
   "cell_type": "code",
   "execution_count": null,
   "metadata": {},
   "outputs": [],
   "source": []
  }
 ],
 "metadata": {
  "kernelspec": {
   "display_name": "Python 3",
   "language": "python",
   "name": "python3"
  },
  "language_info": {
   "codemirror_mode": {
    "name": "ipython",
    "version": 3
   },
   "file_extension": ".py",
   "mimetype": "text/x-python",
   "name": "python",
   "nbconvert_exporter": "python",
   "pygments_lexer": "ipython3",
   "version": "3.6.7"
  }
 },
 "nbformat": 4,
 "nbformat_minor": 2
}
