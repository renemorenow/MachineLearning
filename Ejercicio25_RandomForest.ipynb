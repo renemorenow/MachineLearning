{
 "cells": [
  {
   "cell_type": "code",
   "execution_count": 37,
   "metadata": {},
   "outputs": [],
   "source": [
    "from mnist import MNIST\n",
    "#Importar para utilizar la libreria Matriz de Confusión:\n",
    "from sklearn.metrics import confusion_matrix\n",
    "from sklearn.model_selection import train_test_split\n",
    "from sklearn.ensemble import RandomForestClassifier"
   ]
  },
  {
   "cell_type": "code",
   "execution_count": 38,
   "metadata": {},
   "outputs": [],
   "source": [
    "#Definir función para evaluar el clasificador\n",
    "#retorna la matriz de confusión:\n",
    "def evaluate_classifier(classifier, t_data, t_labels):\n",
    "    prediction = classifier.predict(t_data)\n",
    "    #t_labels: valores reales, prediction: valores de la prediccion\n",
    "    #c_matrix: Matriz de confusión\n",
    "    c_matrix = confusion_matrix(t_labels, prediction)\n",
    "    return c_matrix"
   ]
  },
  {
   "cell_type": "code",
   "execution_count": 43,
   "metadata": {},
   "outputs": [],
   "source": [
    "# define and load data from path\n",
    "mnData = MNIST(r'D:\\Dev\\MachineLearning\\MNIST_data')\n",
    "data, labels = mnData.load_training()\n",
    "\n",
    "# split dta to train\n",
    "train_data, test_data, train_labels, test_labels = train_test_split(data, labels, test_size=0.3, random_state=46)"
   ]
  },
  {
   "cell_type": "code",
   "execution_count": 44,
   "metadata": {},
   "outputs": [
    {
     "name": "stdout",
     "output_type": "stream",
     "text": [
      "[[1752    0    0    1    0    2    9    1    9    1]\n",
      " [   0 1958    9    2    2    1    1    3    2    1]\n",
      " [  10    4 1777    7    6    1    8    8    7    2]\n",
      " [   4    1   26 1736    0   16    4   10   12    4]\n",
      " [   3    4    1    0 1664    0   15    2    3   29]\n",
      " [   4    1    3   13    2 1550   11    0   15   11]\n",
      " [   8    5    1    0    4   10 1786    0    5    0]\n",
      " [   1    6   17    0    8    0    0 1792    0   25]\n",
      " [   4    8    4   12   11   14   10    5 1647   24]\n",
      " [   5    5    2   29   19    3    1   10    9 1782]]\n"
     ]
    }
   ],
   "source": [
    "# Random Forest\n",
    "rf_classifier = RandomForestClassifier(n_estimators=150, min_samples_split=2)\n",
    "#Entrenar el clasificador seleccionado\n",
    "rf_classifier.fit(train_data, train_labels)\n",
    "c_matrix = evaluate_classifier(rf_classifier, test_data, test_labels)\n",
    "print(c_matrix)"
   ]
  },
  {
   "cell_type": "code",
   "execution_count": 45,
   "metadata": {},
   "outputs": [
    {
     "name": "stdout",
     "output_type": "stream",
     "text": [
      "96.91111111111111\n"
     ]
    }
   ],
   "source": [
    "score = (c_matrix.diagonal().sum() * 100.) / c_matrix.sum()\n",
    "print(score)"
   ]
  }
 ],
 "metadata": {
  "kernelspec": {
   "display_name": "Python 3",
   "language": "python",
   "name": "python3"
  },
  "language_info": {
   "codemirror_mode": {
    "name": "ipython",
    "version": 3
   },
   "file_extension": ".py",
   "mimetype": "text/x-python",
   "name": "python",
   "nbconvert_exporter": "python",
   "pygments_lexer": "ipython3",
   "version": "3.6.7"
  }
 },
 "nbformat": 4,
 "nbformat_minor": 2
}
