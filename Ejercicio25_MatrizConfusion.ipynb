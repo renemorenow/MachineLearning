{
 "cells": [
  {
   "cell_type": "code",
   "execution_count": 25,
   "metadata": {},
   "outputs": [],
   "source": [
    "from mnist import MNIST\n",
    "#Importar para utilizar la libreria Matriz de Confusión:\n",
    "from sklearn.metrics import confusion_matrix\n",
    "from sklearn.model_selection import train_test_split\n",
    "from sklearn.tree import DecisionTreeClassifier"
   ]
  },
  {
   "cell_type": "code",
   "execution_count": 26,
   "metadata": {},
   "outputs": [],
   "source": [
    "#Definir función para evaluar el clasificador\n",
    "#retorna la matriz de confusión:\n",
    "def evaluate_classifier(classifier, t_data, t_labels):\n",
    "    prediction = classifier.predict(t_data)\n",
    "    #t_labels: valores reales, prediction: valores de la prediccion\n",
    "    #c_matrix: Matriz de confusión\n",
    "    c_matrix = confusion_matrix(t_labels, prediction)\n",
    "    return c_matrix"
   ]
  },
  {
   "cell_type": "code",
   "execution_count": 27,
   "metadata": {},
   "outputs": [],
   "source": [
    "# define and load data from path\n",
    "mnData = MNIST(r'D:\\Dev\\MachineLearning\\MNIST_data')\n",
    "data, labels = mnData.load_training()\n",
    "\n",
    "# split dta to train\n",
    "train_data, test_data, train_labels, test_labels = train_test_split(data, labels, test_size=0.3, random_state=46)"
   ]
  },
  {
   "cell_type": "code",
   "execution_count": 28,
   "metadata": {},
   "outputs": [],
   "source": [
    "#Evaluar clasificador con todo el set de \"training\" y \"testing\"\n",
    "# Decision Tree\n",
    "dt_classifier = DecisionTreeClassifier()\n",
    "dt_classifier.fit(train_data, train_labels)\n",
    "#Evaluar ARBOL DE DESICIONES\n",
    "c_matrix = evaluate_classifier(dt_classifier, test_data, test_labels)"
   ]
  },
  {
   "cell_type": "code",
   "execution_count": 29,
   "metadata": {},
   "outputs": [
    {
     "name": "stdout",
     "output_type": "stream",
     "text": [
      "[[1623    0   22   20    8   29   24    6   28   15]\n",
      " [   0 1874   20   18   11    9    2    9   28    8]\n",
      " [  34   15 1568   50   25   15   29   37   39   18]\n",
      " [  11   13   56 1517   15   79   13   22   51   36]\n",
      " [  14    8   15   14 1510   19   19   23   19   80]\n",
      " [  20   16   18   68   26 1328   33   14   45   42]\n",
      " [  18   10   30    9   25   38 1635    1   35   18]\n",
      " [   7   13   42   24   21   10    1 1674   12   45]\n",
      " [  27   24   59   66   32   56   41   19 1361   54]\n",
      " [  10    9   14   47   87   42    3   54   47 1552]]\n"
     ]
    }
   ],
   "source": [
    "#Imprimir matriz\n",
    "print(c_matrix)"
   ]
  },
  {
   "cell_type": "code",
   "execution_count": 30,
   "metadata": {},
   "outputs": [],
   "source": [
    "score = (c_matrix.diagonal().sum() * 100.) / c_matrix.sum()"
   ]
  },
  {
   "cell_type": "code",
   "execution_count": 31,
   "metadata": {},
   "outputs": [
    {
     "name": "stdout",
     "output_type": "stream",
     "text": [
      "86.9\n"
     ]
    }
   ],
   "source": [
    "print(score)"
   ]
  }
 ],
 "metadata": {
  "kernelspec": {
   "display_name": "Python 3",
   "language": "python",
   "name": "python3"
  },
  "language_info": {
   "codemirror_mode": {
    "name": "ipython",
    "version": 3
   },
   "file_extension": ".py",
   "mimetype": "text/x-python",
   "name": "python",
   "nbconvert_exporter": "python",
   "pygments_lexer": "ipython3",
   "version": "3.6.7"
  }
 },
 "nbformat": 4,
 "nbformat_minor": 2
}
